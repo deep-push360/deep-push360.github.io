{
 "cells": [
  {
   "cell_type": "markdown",
   "metadata": {
    "collapsed": false
   },
   "source": [
    "## Contributing to DeepPush repositories\n",
    "Developed by Kayode Olaleye, ...\n",
    "\n",
    "This guide gives a quick start on contributing to [Toxicology](https://github.com/deep-push360/toxicology) - Our first Kaggle competition repository.\n",
    "\n",
    "This guide assumes the reader has an account on GitHub and already familiar with the basics of git. Hence, details about 'forking', 'cloning', 'adding', 'commiting', 'pulling', and 'pushing' will not be covered now. This guide is basically a cheat-sheet to help team members easily get started with collaborating on different DeepPush's projects.\n",
    "\n",
    "**Step 1**: Go to the repository on github: https://github.com/deep-push360/toxicology and click the “Fork” button at the top right to have your personal remote copy of the repository.\n",
    "\n",
    "**Step 2**: To create a local copy of the 'forked' repository, open a terminal/shell and type\n"
   ]
  },
  {
   "cell_type": "code",
   "execution_count": null,
   "metadata": {
    "collapsed": false
   },
   "outputs": [],
   "source": [
    "$ git clone https://github.com/username/toxicology.git "
   ]
  },
  {
   "cell_type": "markdown",
   "metadata": {
    "collapsed": true
   },
   "source": [
    "Remember to change username to your GitHub username.\n",
    "\n",
    "From the same terminal path, change into that project directory:"
   ]
  },
  {
   "cell_type": "code",
   "execution_count": null,
   "metadata": {
    "collapsed": true
   },
   "outputs": [],
   "source": [
    "$ cd toxicology"
   ]
  },
  {
   "cell_type": "markdown",
   "metadata": {},
   "source": [
    "**Step 3**: Connect to the original repository (in this case, https://github.com/deep-push360/toxicology.git "
   ]
  },
  {
   "cell_type": "code",
   "execution_count": null,
   "metadata": {
    "collapsed": true
   },
   "outputs": [],
   "source": [
    "$ git remote add deep-push360 https://github.com/deep-push360/toxicology.git "
   ]
  },
  {
   "cell_type": "markdown",
   "metadata": {},
   "source": [
    "To check the remote add setup:"
   ]
  },
  {
   "cell_type": "code",
   "execution_count": null,
   "metadata": {
    "collapsed": true
   },
   "outputs": [],
   "source": [
    "$ git remote -v"
   ]
  },
  {
   "cell_type": "markdown",
   "metadata": {},
   "source": [
    "**Step 4**: Make changes to any file in the local copy and `git add` and `git commit` those changes"
   ]
  },
  {
   "cell_type": "code",
   "execution_count": null,
   "metadata": {
    "collapsed": true
   },
   "outputs": [],
   "source": [
    "$ git add filename\n",
    "$ git commit -m 'updated filename'"
   ]
  },
  {
   "cell_type": "markdown",
   "metadata": {},
   "source": [
    "**Step 5**: Check that your version is up to date relative to your **deep-push360**'s version. It is very important to always do this before you make changes to any file(s) locally. This will pull down and merge all of the changes that has been made to deep-push360 version."
   ]
  },
  {
   "cell_type": "code",
   "execution_count": null,
   "metadata": {
    "collapsed": true
   },
   "outputs": [],
   "source": [
    "$ git pull deep-push360 master"
   ]
  },
  {
   "cell_type": "markdown",
   "metadata": {},
   "source": [
    "**Step 6**: Push them back to your remote copy"
   ]
  },
  {
   "cell_type": "code",
   "execution_count": null,
   "metadata": {
    "collapsed": true
   },
   "outputs": [],
   "source": [
    "$ git push"
   ]
  },
  {
   "cell_type": "markdown",
   "metadata": {},
   "source": [
    "\n",
    "## Submitting a Pull Request\n",
    "\n",
    "After completing the above procedure, you are now ready to submit a pull request. Submitting a pull request is important in a collaborative work. This helps each team member to comment, critique and discuss the changes you have made to any files. Once all collaborators are happy, your changes can then be merged with **deep-push360**'s remote version.\n",
    "\n",
    "This section will only cover how to create a pull from a forked repository. Creating a pull request from a branch within a repository will be covered when the need arises.\n",
    "\n",
    "- To create a pull request, you must have changes committed to the your forked copy.\n",
    "- Go to the [toxicology](https://github.com/deep-push360/toxicology) page on github. And click on \"Pull Request\" button in the repo header.\n",
    "- Pick the branch you wish to have merged using the \"Head branch\" dropdown.\n",
    "- Enter a title and description for your pull request.\n",
    "- Finally, click on the green \"Send pull request\" button to finish creating the pull request."
   ]
  },
  {
   "cell_type": "code",
   "execution_count": null,
   "metadata": {
    "collapsed": true
   },
   "outputs": [],
   "source": []
  }
 ],
 "metadata": {
  "kernelspec": {
   "display_name": "Python 3",
   "language": "python",
   "name": "python3"
  },
  "language_info": {
   "codemirror_mode": {
    "name": "ipython",
    "version": 3
   },
   "file_extension": ".py",
   "mimetype": "text/x-python",
   "name": "python",
   "nbconvert_exporter": "python",
   "pygments_lexer": "ipython3",
   "version": "3.5.3"
  }
 },
 "nbformat": 4,
 "nbformat_minor": 2
}
